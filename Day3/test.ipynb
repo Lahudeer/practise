{
 "cells": [
  {
   "cell_type": "code",
   "execution_count": 24,
   "metadata": {},
   "outputs": [
    {
     "name": "stdout",
     "output_type": "stream",
     "text": [
      "       id description                      name     taskType category  taskId  \\\n",
      "0  257922        null  YR-AT5-8_20230308_083637      L2_ADAS     null   11721   \n",
      "1  257920        null  YR-AT5-8_20230308_074630  AEB-MAPFREE     null   11720   \n",
      "2  257919        null  YR-AT5-8_20230308_074438  AEB-MAPFREE     null   11720   \n",
      "3  257908        null  YR-AT5-8_20230308_064542  AEB-MAPFREE     null   11720   \n",
      "4  257907        null  YR-AT5-8_20230308_064345  AEB-MAPFREE     null   11720   \n",
      "\n",
      "  vehicleId    status             directoryName  tagTimes  ...  \\\n",
      "0  YR_AT5_8  Uploaded  YR-AT5-8_20230308_083637         0  ...   \n",
      "1  YR_AT5_8       End                      null         0  ...   \n",
      "2  YR_AT5_8       End                      null         0  ...   \n",
      "3  YR_AT5_8  Uploaded  YR-AT5-8_20230308_064542         5  ...   \n",
      "4  YR_AT5_8  Uploaded  YR-AT5-8_20230308_064345         0  ...   \n",
      "\n",
      "                        path  integrityStatus  directorySize     regions  \\\n",
      "0  /YR-AT5-8_20230308_083637                0      764203503  [shanghai]   \n",
      "1                       null                0              0  [shanghai]   \n",
      "2                       null                0              0  [shanghai]   \n",
      "3  /YR-AT5-8_20230308_064542                0    33739835789  [shanghai]   \n",
      "4  /YR-AT5-8_20230308_064345                0     3264448894  [shanghai]   \n",
      "\n",
      "  archType version    createdTime  dataStatus  isFollow tripTime  \n",
      "0      X86       9  1678264598000           1      null       28  \n",
      "1      X86       2  1678261592000           1      null     1625  \n",
      "2      X86       2  1678261480000           1      null       84  \n",
      "3      X86      13  1678257944000           1      null     3191  \n",
      "4      X86       9  1678257827000           1      null       22  \n",
      "\n",
      "[5 rows x 32 columns]\n"
     ]
    },
    {
     "data": {
      "text/html": [
       "<div>\n",
       "<style scoped>\n",
       "    .dataframe tbody tr th:only-of-type {\n",
       "        vertical-align: middle;\n",
       "    }\n",
       "\n",
       "    .dataframe tbody tr th {\n",
       "        vertical-align: top;\n",
       "    }\n",
       "\n",
       "    .dataframe thead th {\n",
       "        text-align: right;\n",
       "    }\n",
       "</style>\n",
       "<table border=\"1\" class=\"dataframe\">\n",
       "  <thead>\n",
       "    <tr style=\"text-align: right;\">\n",
       "      <th></th>\n",
       "      <th>tester</th>\n",
       "      <th>vehicleId</th>\n",
       "      <th>location</th>\n",
       "      <th>taskType</th>\n",
       "      <th>hour</th>\n",
       "      <th>distance</th>\n",
       "    </tr>\n",
       "  </thead>\n",
       "  <tbody>\n",
       "    <tr>\n",
       "      <th>0</th>\n",
       "      <td>yili03</td>\n",
       "      <td>YR_AT5_8</td>\n",
       "      <td>shanghai</td>\n",
       "      <td>L2_ADAS</td>\n",
       "      <td>0.007778</td>\n",
       "      <td>0.0</td>\n",
       "    </tr>\n",
       "    <tr>\n",
       "      <th>1</th>\n",
       "      <td>yili03</td>\n",
       "      <td>YR_AT5_8</td>\n",
       "      <td>shanghai</td>\n",
       "      <td>AEB-MAPFREE</td>\n",
       "      <td>0.451389</td>\n",
       "      <td>7.8</td>\n",
       "    </tr>\n",
       "    <tr>\n",
       "      <th>2</th>\n",
       "      <td>yili03</td>\n",
       "      <td>YR_AT5_8</td>\n",
       "      <td>shanghai</td>\n",
       "      <td>AEB-MAPFREE</td>\n",
       "      <td>0.023333</td>\n",
       "      <td>0.0</td>\n",
       "    </tr>\n",
       "    <tr>\n",
       "      <th>3</th>\n",
       "      <td>yili03</td>\n",
       "      <td>YR_AT5_8</td>\n",
       "      <td>shanghai</td>\n",
       "      <td>AEB-MAPFREE</td>\n",
       "      <td>0.886389</td>\n",
       "      <td>20.5</td>\n",
       "    </tr>\n",
       "    <tr>\n",
       "      <th>4</th>\n",
       "      <td>yili03</td>\n",
       "      <td>YR_AT5_8</td>\n",
       "      <td>shanghai</td>\n",
       "      <td>AEB-MAPFREE</td>\n",
       "      <td>0.006111</td>\n",
       "      <td>0.0</td>\n",
       "    </tr>\n",
       "  </tbody>\n",
       "</table>\n",
       "</div>"
      ],
      "text/plain": [
       "   tester vehicleId  location     taskType      hour  distance\n",
       "0  yili03  YR_AT5_8  shanghai      L2_ADAS  0.007778       0.0\n",
       "1  yili03  YR_AT5_8  shanghai  AEB-MAPFREE  0.451389       7.8\n",
       "2  yili03  YR_AT5_8  shanghai  AEB-MAPFREE  0.023333       0.0\n",
       "3  yili03  YR_AT5_8  shanghai  AEB-MAPFREE  0.886389      20.5\n",
       "4  yili03  YR_AT5_8  shanghai  AEB-MAPFREE  0.006111       0.0"
      ]
     },
     "execution_count": 24,
     "metadata": {},
     "output_type": "execute_result"
    }
   ],
   "source": [
    "import pandas as pd\n",
    "import pandasql as ps\n",
    "from drplatfrom_api import DrPlatformAPI\n",
    "from datetime import *\n",
    "dpa = DrPlatformAPI()\n",
    "data_frame= dpa.load_trips()\n",
    "data_frame\n"
   ]
  },
  {
   "cell_type": "code",
   "execution_count": 26,
   "metadata": {},
   "outputs": [
    {
     "data": {
      "text/html": [
       "<div>\n",
       "<style scoped>\n",
       "    .dataframe tbody tr th:only-of-type {\n",
       "        vertical-align: middle;\n",
       "    }\n",
       "\n",
       "    .dataframe tbody tr th {\n",
       "        vertical-align: top;\n",
       "    }\n",
       "\n",
       "    .dataframe thead th {\n",
       "        text-align: right;\n",
       "    }\n",
       "</style>\n",
       "<table border=\"1\" class=\"dataframe\">\n",
       "  <thead>\n",
       "    <tr style=\"text-align: right;\">\n",
       "      <th></th>\n",
       "      <th>测试工程师</th>\n",
       "    </tr>\n",
       "  </thead>\n",
       "  <tbody>\n",
       "    <tr>\n",
       "      <th>0</th>\n",
       "      <td>yili03</td>\n",
       "    </tr>\n",
       "  </tbody>\n",
       "</table>\n",
       "</div>"
      ],
      "text/plain": [
       "    测试工程师\n",
       "0  yili03"
      ]
     },
     "execution_count": 26,
     "metadata": {},
     "output_type": "execute_result"
    }
   ],
   "source": [
    "sql_platform = \"\"\"\n",
    "SELECT tester AS 测试工程师 , vehicleId AS Car_ID , location AS 城市 , DATE(startTime) AS 日期 , SUM(hour) AS 测试时间 , SUM(distance) AS 运营里程（KM）\n",
    "FROM data_frame\n",
    "GROUP BY tester\n",
    "\"\"\"\n",
    "# sql_platform = \"\"\"SELECT tester AS 测试工程师 , vehicleId AS Car_ID , location AS 城市 , DATE(startTime) AS 日期 , SUM(hour) AS 测试时间 , SUM(distance) AS 运营里程（KM）FROM data_frame GROUP BY tester\"\"\"\n",
    "sql_platform_result = ps.sqldf(sql_platform, locals())\n",
    "sql_platform_result\n"
   ]
  }
 ],
 "metadata": {
  "kernelspec": {
   "display_name": "Python 3.9.13 ('base')",
   "language": "python",
   "name": "python3"
  },
  "language_info": {
   "codemirror_mode": {
    "name": "ipython",
    "version": 3
   },
   "file_extension": ".py",
   "mimetype": "text/x-python",
   "name": "python",
   "nbconvert_exporter": "python",
   "pygments_lexer": "ipython3",
   "version": "3.9.13"
  },
  "orig_nbformat": 4,
  "vscode": {
   "interpreter": {
    "hash": "c1c3db9a2d0f020cc1f76eadad55a48e8cdd1282f67872b64a22478fb74a2521"
   }
  }
 },
 "nbformat": 4,
 "nbformat_minor": 2
}
